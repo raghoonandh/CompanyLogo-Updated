{
 "cells": [
  {
   "cell_type": "code",
   "execution_count": 2,
   "metadata": {
    "collapsed": false
   },
   "outputs": [],
   "source": [
    "import pandas as pd\n",
    "import re"
   ]
  },
  {
   "cell_type": "code",
   "execution_count": 3,
   "metadata": {
    "collapsed": true
   },
   "outputs": [],
   "source": [
    "RE_STUB = re.compile(r'[^a-z0-9]+')\n",
    "\n",
    "# A mapping of stubs to their original names\n",
    "# TODO: make this persistent, perhaps...\n",
    "STUB_MAP = {}\n",
    "\n",
    "\n",
    "def stub(name, context=''):\n",
    "    \"\"\"\n",
    "    Return a URL-friendly representation of the name that only contains\n",
    "    lowercase alphanumerics and hyphens. Store this persistently for\n",
    "    unstubbing.\n",
    "    \"\"\"\n",
    "    stub_ = RE_STUB.sub('-', name.lower()).strip('-')\n",
    "    STUB_MAP[context, stub_] = name\n",
    "    return stub_"
   ]
  },
  {
   "cell_type": "code",
   "execution_count": 4,
   "metadata": {
    "collapsed": true
   },
   "outputs": [],
   "source": [
    "df = pd.read_csv('companyname.csv')"
   ]
  },
  {
   "cell_type": "code",
   "execution_count": 5,
   "metadata": {
    "collapsed": false
   },
   "outputs": [
    {
     "data": {
      "text/html": [
       "<div>\n",
       "<table border=\"1\" class=\"dataframe\">\n",
       "  <thead>\n",
       "    <tr style=\"text-align: right;\">\n",
       "      <th></th>\n",
       "      <th>old</th>\n",
       "      <th>new</th>\n",
       "    </tr>\n",
       "  </thead>\n",
       "  <tbody>\n",
       "    <tr>\n",
       "      <th>0</th>\n",
       "      <td>2mpower health management services</td>\n",
       "      <td>2mpower Health Management Services</td>\n",
       "    </tr>\n",
       "    <tr>\n",
       "      <th>1</th>\n",
       "      <td>Absolutdata Research &amp; Analytics Solutions Pvt...</td>\n",
       "      <td>Absolutdata Research &amp; Analytics Solutions Pvt...</td>\n",
       "    </tr>\n",
       "  </tbody>\n",
       "</table>\n",
       "</div>"
      ],
      "text/plain": [
       "                                                 old  \\\n",
       "0                 2mpower health management services   \n",
       "1  Absolutdata Research & Analytics Solutions Pvt...   \n",
       "\n",
       "                                                 new  \n",
       "0                 2mpower Health Management Services  \n",
       "1  Absolutdata Research & Analytics Solutions Pvt...  "
      ]
     },
     "execution_count": 5,
     "metadata": {},
     "output_type": "execute_result"
    }
   ],
   "source": [
    "df.head(2)"
   ]
  },
  {
   "cell_type": "code",
   "execution_count": 6,
   "metadata": {
    "collapsed": true
   },
   "outputs": [],
   "source": [
    "oldlist = list(df['old'])\n",
    "newlist = list(df['new'])"
   ]
  },
  {
   "cell_type": "code",
   "execution_count": 24,
   "metadata": {
    "collapsed": false
   },
   "outputs": [],
   "source": [
    "emptylist= []\n",
    "for i in range(len(oldlist)):\n",
    "    for formate in ['.png', '.jpg', '.jpeg', '.gif', '.bmp']:\n",
    "        filename =  stub(oldlist[i]) + formate\n",
    "        newfilename = stub(newlist[i]) + formate\n",
    "        if os.path.isfile(filename):\n",
    "            try:\n",
    "                os.rename(filename, newfilename)\n",
    "                emptylist.append(newfilename)\n",
    "            except:\n",
    "                pass\n"
   ]
  },
  {
   "cell_type": "code",
   "execution_count": 26,
   "metadata": {
    "collapsed": false
   },
   "outputs": [
    {
     "data": {
      "text/plain": [
       "43"
      ]
     },
     "execution_count": 26,
     "metadata": {},
     "output_type": "execute_result"
    }
   ],
   "source": [
    "len(emptylist)"
   ]
  },
  {
   "cell_type": "code",
   "execution_count": null,
   "metadata": {
    "collapsed": true
   },
   "outputs": [],
   "source": []
  }
 ],
 "metadata": {
  "kernelspec": {
   "display_name": "Python 2",
   "language": "python",
   "name": "python2"
  },
  "language_info": {
   "codemirror_mode": {
    "name": "ipython",
    "version": 2
   },
   "file_extension": ".py",
   "mimetype": "text/x-python",
   "name": "python",
   "nbconvert_exporter": "python",
   "pygments_lexer": "ipython2",
   "version": "2.7.11"
  }
 },
 "nbformat": 4,
 "nbformat_minor": 0
}
